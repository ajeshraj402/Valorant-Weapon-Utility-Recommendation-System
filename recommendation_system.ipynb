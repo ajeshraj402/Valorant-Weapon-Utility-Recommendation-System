{
 "cells": [
  {
   "cell_type": "code",
   "execution_count": 1,
   "metadata": {},
   "outputs": [
    {
     "name": "stdout",
     "output_type": "stream",
     "text": [
      "   Match Number  Round Number  Eco before purchase Drop Given to Teammate  \\\n",
      "0             1             1                  800                   none   \n",
      "1             1             2                 3500                   none   \n",
      "2             1             3                 3250                   none   \n",
      "3             1             4                 4150                   none   \n",
      "4             1             5                 3450                   none   \n",
      "\n",
      "   Eco after purchase sidearms main weapon Shield type Friendly drop weapon  \\\n",
      "0                 100    ghost        none        none                 none   \n",
      "1                  50    ghost    guardian       heavy                 none   \n",
      "2                2250  classic        none       heavy             Guardian   \n",
      "3                  50  classic      vandal       heavy                 none   \n",
      "4                3050  classic      vandal       heavy                 none   \n",
      "\n",
      "   Contingency Ability  Undercut Ability  kills round win/loss match status  \\\n",
      "0                    1                 0      2            win       defeat   \n",
      "1                    0                 1      1            win       defeat   \n",
      "2                    0                 1      0           loss       defeat   \n",
      "3                    1                 1      2            win       defeat   \n",
      "4                    1                 2      2            win       defeat   \n",
      "\n",
      "        Side Economy Tier  Total Utilities Used Round Type  \n",
      "0  defenders          low                  1.00     pistol  \n",
      "1  defenders       medium                  1.35    mid buy  \n",
      "2  defenders       medium                  0.95    mid buy  \n",
      "3  defenders         high                  1.17   full buy  \n",
      "4  defenders       medium                  1.29    mid buy  \n"
     ]
    }
   ],
   "source": [
    "import pandas as pd\n",
    "\n",
    "# Load the dataset\n",
    "valorant_data = pd.read_csv(\"datasets/valorant_model_dataset.csv\")\n",
    "\n",
    "print(valorant_data.head())"
   ]
  },
  {
   "cell_type": "code",
   "execution_count": 2,
   "metadata": {},
   "outputs": [
    {
     "name": "stdout",
     "output_type": "stream",
     "text": [
      "   sidearms  main weapon  Shield type  Round Type  Side\n",
      "0         1            2            2           2     1\n",
      "1         1            0            0           1     1\n",
      "2         0            2            0           1     1\n",
      "3         0            3            0           0     1\n",
      "4         0            3            0           1     1\n"
     ]
    }
   ],
   "source": [
    "from sklearn.preprocessing import LabelEncoder\n",
    "\n",
    "# Step 2: Encode categorical columns\n",
    "categorical_columns = [\"sidearms\", \"main weapon\", \"Shield type\", \"Round Type\", \"Side\"]\n",
    "\n",
    "# Initialize label encoders\n",
    "label_encoders = {}\n",
    "\n",
    "for col in categorical_columns:\n",
    "    le = LabelEncoder()\n",
    "    valorant_data[col] = le.fit_transform(valorant_data[col])\n",
    "    label_encoders[col] = le  # Save encoders for later decoding\n",
    "\n",
    "# Verify encoding\n",
    "print(valorant_data[categorical_columns].head())"
   ]
  },
  {
   "cell_type": "code",
   "execution_count": 3,
   "metadata": {},
   "outputs": [
    {
     "name": "stdout",
     "output_type": "stream",
     "text": [
      "Features Shape: (66, 10)\n",
      "Targets Shape: (66, 5)\n"
     ]
    }
   ],
   "source": [
    "# Step 3: Define features and targets\n",
    "X = valorant_data[[  # Features\n",
    "    \"Eco before purchase\",\n",
    "    \"Contingency Ability\",\n",
    "    \"Undercut Ability\",\n",
    "    \"Total Utilities Used\",\n",
    "    \"kills\",\n",
    "    \"Round Type\",\n",
    "    \"Side\",\n",
    "    \"main weapon\",  # Add current loadout\n",
    "    \"sidearms\",\n",
    "    \"Shield type\"\n",
    "]]\n",
    "\n",
    "y = valorant_data[[  # Targets\n",
    "    \"sidearms\",\n",
    "    \"main weapon\",\n",
    "    \"Shield type\",\n",
    "    \"Contingency Ability\",\n",
    "    \"Undercut Ability\"\n",
    "]]\n",
    "\n",
    "# Verify shapes\n",
    "print(\"Features Shape:\", X.shape)\n",
    "print(\"Targets Shape:\", y.shape)"
   ]
  },
  {
   "cell_type": "code",
   "execution_count": 4,
   "metadata": {},
   "outputs": [
    {
     "name": "stdout",
     "output_type": "stream",
     "text": [
      "Training Features Shape: (42, 10)\n",
      "Testing Features Shape: (24, 10)\n",
      "Training Targets Shape: (42, 5)\n",
      "Testing Targets Shape: (24, 5)\n"
     ]
    }
   ],
   "source": [
    "from sklearn.model_selection import GroupKFold\n",
    "\n",
    "# Step 4: Grouped K-Fold split\n",
    "groups = valorant_data[\"Match Number\"]\n",
    "gkf = GroupKFold(n_splits=3)\n",
    "\n",
    "# Split the data\n",
    "for train_idx, test_idx in gkf.split(X, y, groups):\n",
    "    X_train, X_test = X.iloc[train_idx], X.iloc[test_idx]\n",
    "    y_train, y_test = y.iloc[train_idx], y.iloc[test_idx]\n",
    "    break\n",
    "\n",
    "# Verify shapes\n",
    "print(\"Training Features Shape:\", X_train.shape)\n",
    "print(\"Testing Features Shape:\", X_test.shape)\n",
    "print(\"Training Targets Shape:\", y_train.shape)\n",
    "print(\"Testing Targets Shape:\", y_test.shape)"
   ]
  },
  {
   "cell_type": "code",
   "execution_count": 5,
   "metadata": {},
   "outputs": [
    {
     "name": "stdout",
     "output_type": "stream",
     "text": [
      "Model training complete!\n"
     ]
    }
   ],
   "source": [
    "from sklearn.multioutput import MultiOutputClassifier\n",
    "from sklearn.ensemble import RandomForestClassifier\n",
    "\n",
    "# Step 5: Train the model\n",
    "# Initialize the base model\n",
    "base_model = RandomForestClassifier(n_estimators=150, random_state=42)\n",
    "\n",
    "# Wrap it with MultiOutputClassifier\n",
    "multi_target_model = MultiOutputClassifier(base_model)\n",
    "\n",
    "# Train the model\n",
    "multi_target_model.fit(X_train, y_train)\n",
    "\n",
    "print(\"Model training complete!\")"
   ]
  },
  {
   "cell_type": "code",
   "execution_count": 6,
   "metadata": {},
   "outputs": [
    {
     "name": "stdout",
     "output_type": "stream",
     "text": [
      "Accuracy for sidearms: 0.88\n",
      "Accuracy for main weapon: 0.83\n",
      "Accuracy for Shield type: 0.88\n",
      "Accuracy for Contingency Ability: 0.88\n",
      "Accuracy for Undercut Ability: 0.71\n",
      "Overall Average Accuracy: 0.83\n"
     ]
    }
   ],
   "source": [
    "from sklearn.metrics import accuracy_score\n",
    "\n",
    "# Step 6: Predict on the test set\n",
    "y_pred = multi_target_model.predict(X_test)\n",
    "\n",
    "# Evaluate accuracy for each target\n",
    "accuracies = [\n",
    "    accuracy_score(y_test.iloc[:, i], y_pred[:, i]) \n",
    "    for i in range(y_test.shape[1])\n",
    "]\n",
    "\n",
    "# Display accuracy for each target\n",
    "target_columns = y_test.columns\n",
    "for i, col in enumerate(target_columns):\n",
    "    print(f\"Accuracy for {col}: {accuracies[i]:.2f}\")\n",
    "\n",
    "# Calculate overall average accuracy\n",
    "average_accuracy = sum(accuracies) / len(accuracies)\n",
    "print(f\"Overall Average Accuracy: {average_accuracy:.2f}\")"
   ]
  },
  {
   "cell_type": "code",
   "execution_count": 7,
   "metadata": {},
   "outputs": [
    {
     "name": "stdout",
     "output_type": "stream",
     "text": [
      "Recommended Loadout:\n",
      "Sidearm: classic\n",
      "Main Weapon: none\n",
      "Shield: none\n",
      "Contingency Ability: No\n",
      "Undercut Ability: Yes\n"
     ]
    }
   ],
   "source": [
    "# Example input for testing\n",
    "player_input = pd.DataFrame([{\n",
    "    \"Eco before purchase\": 2900,  # Player's credits\n",
    "    \"Contingency Ability\": 0,     # Number of contingencies already owned\n",
    "    \"Undercut Ability\": 1,        # Number of undercuts already owned\n",
    "    \"Total Utilities Used\": 2,    # Example usage tracking\n",
    "    \"kills\": 1,                   # Player performance\n",
    "    \"Round Type\": 2,              # Encoded for \"full buy\"\n",
    "    \"Side\": 1,                    # Encoded for \"defenders\"\n",
    "    \"main weapon\": label_encoders[\"main weapon\"].transform([\"vandal\"])[0],  # Current weapon\n",
    "    \"sidearms\": label_encoders[\"sidearms\"].transform([\"classic\"])[0],       # Current sidearm\n",
    "    \"Shield type\": label_encoders[\"Shield type\"].transform([\"none\"])[0]     # Current shield type\n",
    "}])\n",
    "\n",
    "# Predict recommendations\n",
    "predictions = multi_target_model.predict(player_input)\n",
    "\n",
    "# Decode predictions\n",
    "sidearm_prediction = label_encoders[\"sidearms\"].inverse_transform([predictions[0][0]])[0]\n",
    "main_weapon_prediction = label_encoders[\"main weapon\"].inverse_transform([predictions[0][1]])[0]\n",
    "shield_prediction = label_encoders[\"Shield type\"].inverse_transform([predictions[0][2]])[0]\n",
    "contingency_prediction = predictions[0][3]\n",
    "undercut_prediction = predictions[0][4]\n",
    "\n",
    "# Display recommendations\n",
    "print(\"Recommended Loadout:\")\n",
    "print(f\"Sidearm: {sidearm_prediction}\")\n",
    "print(f\"Main Weapon: {main_weapon_prediction}\")\n",
    "print(f\"Shield: {shield_prediction}\")\n",
    "print(f\"Contingency Ability: {'Yes' if contingency_prediction == 1 else 'No'}\")\n",
    "print(f\"Undercut Ability: {'Yes' if undercut_prediction == 1 else 'No'}\")"
   ]
  },
  {
   "cell_type": "code",
   "execution_count": 8,
   "metadata": {},
   "outputs": [],
   "source": [
    "def adjust_recommendations(economy, sidearm, main_weapon, shield, contingency, undercut):\n",
    "    costs = {\n",
    "        \"sidearms\": {\"sheriff\": 800, \"classic\": 0, \"ghost\": 500, \"none\": 0},\n",
    "        \"main weapon\": {\"vandal\": 2900, \"bulldog\": 2050, \"spectre\": 1600, \"none\": 0},\n",
    "        \"shield\": {\"light\": 400, \"heavy\": 1000, \"none\": 0},\n",
    "        \"abilities\": {\"contingency\": 200, \"undercut\": 200}\n",
    "    }\n",
    "\n",
    "    # Prioritize main weapon\n",
    "    if main_weapon == \"none\" and economy >= 2900:\n",
    "        main_weapon = \"vandal\"\n",
    "        economy -= costs[\"main weapon\"][\"vandal\"]\n",
    "    elif main_weapon == \"none\" and economy >= 2050:\n",
    "        main_weapon = \"bulldog\"\n",
    "        economy -= costs[\"main weapon\"][\"bulldog\"]\n",
    "\n",
    "    # Prioritize shield upgrade\n",
    "    if shield == \"none\" and economy >= 1000:\n",
    "        shield = \"heavy\"\n",
    "        economy -= costs[\"shield\"][\"heavy\"]\n",
    "    elif shield == \"none\" and economy >= 400:\n",
    "        shield = \"light\"\n",
    "        economy -= costs[\"shield\"][\"light\"]\n",
    "\n",
    "    # Prioritize utilities\n",
    "    if economy >= 200 and undercut < 2:\n",
    "        undercut += 1\n",
    "        economy -= costs[\"abilities\"][\"undercut\"]\n",
    "\n",
    "    if economy >= 200 and contingency == 0:\n",
    "        contingency = 1\n",
    "        economy -= costs[\"abilities\"][\"contingency\"]\n",
    "\n",
    "    return sidearm, main_weapon, shield, contingency, undercut, economy"
   ]
  },
  {
   "cell_type": "code",
   "execution_count": 9,
   "metadata": {},
   "outputs": [],
   "source": [
    "def predict_and_refine(player_input):\n",
    "    # Predict recommendations\n",
    "    predictions = multi_target_model.predict(player_input)\n",
    "\n",
    "    # Decode predictions\n",
    "    sidearm_prediction = label_encoders[\"sidearms\"].inverse_transform([predictions[0][0]])[0]\n",
    "    main_weapon_prediction = label_encoders[\"main weapon\"].inverse_transform([predictions[0][1]])[0]\n",
    "    shield_prediction = label_encoders[\"Shield type\"].inverse_transform([predictions[0][2]])[0]\n",
    "    contingency_prediction = predictions[0][3]\n",
    "    undercut_prediction = predictions[0][4]\n",
    "\n",
    "    # Extract input economy\n",
    "    economy = player_input[\"Eco before purchase\"].iloc[0]\n",
    "\n",
    "    # Refine recommendations\n",
    "    refined_sidearm, refined_main_weapon, refined_shield, refined_contingency, refined_undercut, remaining_eco = adjust_recommendations(\n",
    "        economy=economy,\n",
    "        sidearm=sidearm_prediction,\n",
    "        main_weapon=main_weapon_prediction,\n",
    "        shield=shield_prediction,\n",
    "        contingency=contingency_prediction,\n",
    "        undercut=undercut_prediction\n",
    "    )\n",
    "\n",
    "    # Output recommendations\n",
    "    print(\"Final Recommendations:\")\n",
    "    print(f\"Sidearm: {refined_sidearm}\")\n",
    "    print(f\"Main Weapon: {refined_main_weapon}\")\n",
    "    print(f\"Shield: {refined_shield}\")\n",
    "    print(f\"Contingency Ability: {'Yes' if refined_contingency == 1 else 'No'}\")\n",
    "    print(f\"Undercut Ability: {refined_undercut}\")\n",
    "    print(f\"Remaining Economy: {remaining_eco}\")"
   ]
  },
  {
   "cell_type": "code",
   "execution_count": 10,
   "metadata": {},
   "outputs": [
    {
     "name": "stdout",
     "output_type": "stream",
     "text": [
      "Final Recommendations:\n",
      "Sidearm: classic\n",
      "Main Weapon: vandal\n",
      "Shield: heavy\n",
      "Contingency Ability: Yes\n",
      "Undercut Ability: 2\n",
      "Remaining Economy: 600\n"
     ]
    }
   ],
   "source": [
    "player_input = pd.DataFrame([{\n",
    "    \"Eco before purchase\": 4900,\n",
    "    \"Contingency Ability\": 0,\n",
    "    \"Undercut Ability\": 1,\n",
    "    \"Total Utilities Used\": 2,\n",
    "    \"kills\": 2,\n",
    "    \"Round Type\": 2,\n",
    "    \"Side\": 1,\n",
    "    \"main weapon\": label_encoders[\"main weapon\"].transform([\"none\"])[0],\n",
    "    \"sidearms\": label_encoders[\"sidearms\"].transform([\"classic\"])[0],\n",
    "    \"Shield type\": label_encoders[\"Shield type\"].transform([\"none\"])[0]\n",
    "}])\n",
    "\n",
    "predict_and_refine(player_input)"
   ]
  }
 ],
 "metadata": {
  "kernelspec": {
   "display_name": "Python 3",
   "language": "python",
   "name": "python3"
  },
  "language_info": {
   "codemirror_mode": {
    "name": "ipython",
    "version": 3
   },
   "file_extension": ".py",
   "mimetype": "text/x-python",
   "name": "python",
   "nbconvert_exporter": "python",
   "pygments_lexer": "ipython3",
   "version": "3.12.6"
  }
 },
 "nbformat": 4,
 "nbformat_minor": 2
}
